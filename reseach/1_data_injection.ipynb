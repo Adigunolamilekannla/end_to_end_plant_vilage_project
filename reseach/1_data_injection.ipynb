{
 "cells": [
  {
   "cell_type": "code",
   "execution_count": 1,
   "id": "00cbab00",
   "metadata": {},
   "outputs": [
    {
     "data": {
      "text/plain": [
       "'/home/leksman/Desktop/my git hub work/end_to_end_plant_val_project/reseach'"
      ]
     },
     "execution_count": 1,
     "metadata": {},
     "output_type": "execute_result"
    }
   ],
   "source": [
    "%pwd"
   ]
  },
  {
   "cell_type": "code",
   "execution_count": 2,
   "id": "28c6dce9",
   "metadata": {},
   "outputs": [],
   "source": [
    "import os "
   ]
  },
  {
   "cell_type": "code",
   "execution_count": 3,
   "id": "af35874a",
   "metadata": {},
   "outputs": [],
   "source": [
    "os.chdir(\"../\")"
   ]
  },
  {
   "cell_type": "code",
   "execution_count": 4,
   "id": "13b4c41f",
   "metadata": {},
   "outputs": [
    {
     "data": {
      "text/plain": [
       "'/home/leksman/Desktop/my git hub work/end_to_end_plant_val_project'"
      ]
     },
     "execution_count": 4,
     "metadata": {},
     "output_type": "execute_result"
    }
   ],
   "source": [
    "%pwd"
   ]
  },
  {
   "cell_type": "code",
   "execution_count": 5,
   "id": "6e68957c",
   "metadata": {},
   "outputs": [],
   "source": [
    "from dataclasses import dataclass\n",
    "from pathlib import Path\n",
    "\n",
    "\n",
    "# Update the entity\n",
    "@dataclass\n",
    "class DataInjectionConfig:\n",
    "    dir_root: Path\n",
    "    file_location: Path\n",
    "    main_data:Path"
   ]
  },
  {
   "cell_type": "code",
   "execution_count": null,
   "id": "6e84f516",
   "metadata": {},
   "outputs": [],
   "source": [
    "# Updating the config \n",
    "from scr.Plant_Vilage.constants import SCHEMA_FILE_PATH,PARAMS_FILE_PATH,CONFIG_FILE_PATH\n",
    "import scr.Plant_Vilage.utils.common as common\n",
    "create_diretory = common.create_directory \n",
    "read_yaml = common.read_yaml\n",
    "\n",
    "\n",
    "class ConfigurationManager:\n",
    "    def __init__(\n",
    "        self,\n",
    "        config_file_path: Path = CONFIG_FILE_PATH,\n",
    "        schema_file_path: Path = SCHEMA_FILE_PATH,\n",
    "        params_file_path: Path = PARAMS_FILE_PATH\n",
    "    ):\n",
    "       \n",
    "        self.config = read_yaml(config_file_path)\n",
    "        self.schema = read_yaml(schema_file_path)\n",
    "        self.params = read_yaml(params_file_path)\n",
    "        create_diretory([self.config.artifacts_root])\n",
    "\n",
    "    def get_data_injection_config(self) -> DataInjectionConfig:\n",
    "        config = self.config.data_injection\n",
    "        create_diretory([config.dir_root])\n",
    "\n",
    "        data_injection_config = DataInjectionConfig(\n",
    "            dir_root=config.dir_root,\n",
    "            file_location=config.file_location,\n",
    "            main_data=config.main_data\n",
    "        )\n",
    "        return data_injection_config"
   ]
  },
  {
   "cell_type": "code",
   "execution_count": 7,
   "id": "251b4d41",
   "metadata": {},
   "outputs": [],
   "source": [
    "# Updating the components \n",
    "\n",
    "import shutil\n",
    "from pathlib import Path\n",
    "from scr.Plant_Vilage import logger\n",
    "class DataInjection:\n",
    "    def __init__(self,config:DataInjectionConfig):\n",
    "\n",
    "        self.config = config\n",
    "\n",
    "\n",
    "\n",
    "    def get_downloaded_data(self):\n",
    "\n",
    "       # Source folder (where your dataset is now)\n",
    "        source_folder = Path(self.config.file_location)\n",
    "        # Destination folder (where you want to copy it)\n",
    "        destination_folder = Path(self.config.main_data)\n",
    "        # --- Option 1: Copy folder (keeps original) ---\n",
    "        if not os.path.exists(self.config.main_data):\n",
    "            shutil.copytree(source_folder, destination_folder / source_folder.name, dirs_exist_ok=True)\n",
    "            logger.info(f\"Copied folder: {source_folder} → {destination_folder}\")\n",
    "        else:\n",
    "            logger.info(f\"Data already exist at: {destination_folder}\")"
   ]
  },
  {
   "cell_type": "code",
   "execution_count": 8,
   "id": "f980e6f9",
   "metadata": {},
   "outputs": [
    {
     "name": "stdout",
     "output_type": "stream",
     "text": [
      "[2025-09-13 23:29:01,589: INFO: common: YAML file loaded successfully from: config_yaml/config.yaml:]\n",
      "[2025-09-13 23:29:01,591: INFO: common: YAML file loaded successfully from: schema.yaml:]\n",
      "[2025-09-13 23:29:01,593: INFO: common: YAML file loaded successfully from: params.yaml:]\n",
      "[2025-09-13 23:29:01,595: INFO: common: Created directory at: artifacts:]\n",
      "[2025-09-13 23:29:01,596: INFO: common: Created directory at: artifacts/data_injection:]\n",
      "[2025-09-13 23:29:09,540: INFO: 1312766061: Copied folder: /home/leksman/Downloads/Plant_Vilage_dataset → artifacts/data_injection/dataset:]\n"
     ]
    }
   ],
   "source": [
    "try:\n",
    "    config = ConfigurationManager()\n",
    "    data_injection_config=config.get_data_injection_config()\n",
    "    import_data = DataInjection(config=data_injection_config)\n",
    "    import_data.get_downloaded_data()\n",
    "except Exception as e:\n",
    "    raise e    \n",
    "    \n"
   ]
  },
  {
   "cell_type": "code",
   "execution_count": null,
   "id": "268d2eb2",
   "metadata": {},
   "outputs": [],
   "source": []
  }
 ],
 "metadata": {
  "kernelspec": {
   "display_name": "mycondaenv",
   "language": "python",
   "name": "python3"
  },
  "language_info": {
   "codemirror_mode": {
    "name": "ipython",
    "version": 3
   },
   "file_extension": ".py",
   "mimetype": "text/x-python",
   "name": "python",
   "nbconvert_exporter": "python",
   "pygments_lexer": "ipython3",
   "version": "3.10.18"
  }
 },
 "nbformat": 4,
 "nbformat_minor": 5
}
